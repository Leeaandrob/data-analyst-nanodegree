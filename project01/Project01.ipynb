{
 "cells": [
  {
   "cell_type": "markdown",
   "metadata": {},
   "source": [
    "##### 1 - Qual é a nossa variável independente? Qual é a nossa variável dependente?\n",
    "\n",
    "São variáveis idenpendete são os teste congruente e incongruente.\n",
    "Variável dependente é o tempo de leitura gasto nos testes congruentes e incongruentes."
   ]
  },
  {
   "cell_type": "markdown",
   "metadata": {
    "collapsed": false
   },
   "source": [
    "#### 2.\n",
    "\n",
    "##### Qual seria um conjunto apropriado de hipóteses para essa tarefa?\n",
    "\n",
    "\n",
    "Hipótese Nula (H0): Mc = Mi\n",
    "Não há diferença entre as velocidade de leitura com os grupos congruentes e incongruentes.\n",
    "\n",
    "\n",
    "Hipótese Alternativa (Ha): Mc ≠ Mi \n",
    "Existe diferença entre as velocidades de leituras com os grupos congruentes e incongruentes.\n",
    "\n",
    "\n",
    "##### Que tipo de teste estatístico você espera executar?\n",
    "\n",
    "\n",
    "Estamos trabalhando com um dataset relativamente pequeno, de aproximadamente 24 candidatos,\n",
    "utilizarei um Teste-t (T-test) de amostras dependentes. Não possuímos nenhum parametro populacional para um Teste-z (Z-test).\n",
    "\n",
    "\n",
    "###### Justifique.\n",
    "* Eu escolhi o teste T pareado, pois os grupos são relacionados (a mesma pessoa participou de ambos os grupos).\n",
    "* Pois ele é indicado para comparar dois grupos com a amostra relacionais (a mesma pessoa aplicou nos dois testes).\n",
    "* Escolhi o teste pois também nossa amostra é bem pequena."
   ]
  },
  {
   "cell_type": "code",
   "execution_count": 2,
   "metadata": {
    "collapsed": true
   },
   "outputs": [],
   "source": [
    "import pandas as pd\n",
    "import scipy.stats\n",
    "\n",
    "%matplotlib inline\n",
    "\n",
    "data = pd.read_csv('stroopdata.csv')\n",
    "data.head()\n",
    "\n",
    "p_value = scipy.stats.ttest_rel(data.Congruent, data.Incongruent).pvalue"
   ]
  },
  {
   "cell_type": "markdown",
   "metadata": {
    "collapsed": true
   },
   "source": [
    "##### 3 - Reporte alguma estatística descritiva em relação a esse conjunto de dados. Inclua, pelo menos, uma medida de tendência central de pelo menos uma medida de variabilidade.\n",
    "\n",
    "Estatística descritiva:\n",
    "\n",
    "Medida de tendência central:\n",
    "congruente = 14.051125\n",
    "incongruente = 22.015917\n",
    "\n",
    "Variabilidade:\n",
    "Desvio padrão:\n",
    "Congruente = 3.559358\n",
    "Incongruente = 4.797057"
   ]
  },
  {
   "cell_type": "code",
   "execution_count": 3,
   "metadata": {
    "collapsed": false
   },
   "outputs": [
    {
     "data": {
      "text/html": [
       "<div>\n",
       "<table border=\"1\" class=\"dataframe\">\n",
       "  <thead>\n",
       "    <tr style=\"text-align: right;\">\n",
       "      <th></th>\n",
       "      <th>Congruent</th>\n",
       "      <th>Incongruent</th>\n",
       "    </tr>\n",
       "  </thead>\n",
       "  <tbody>\n",
       "    <tr>\n",
       "      <th>count</th>\n",
       "      <td>24.000000</td>\n",
       "      <td>24.000000</td>\n",
       "    </tr>\n",
       "    <tr>\n",
       "      <th>mean</th>\n",
       "      <td>14.051125</td>\n",
       "      <td>22.015917</td>\n",
       "    </tr>\n",
       "    <tr>\n",
       "      <th>std</th>\n",
       "      <td>3.559358</td>\n",
       "      <td>4.797057</td>\n",
       "    </tr>\n",
       "    <tr>\n",
       "      <th>min</th>\n",
       "      <td>8.630000</td>\n",
       "      <td>15.687000</td>\n",
       "    </tr>\n",
       "    <tr>\n",
       "      <th>25%</th>\n",
       "      <td>11.895250</td>\n",
       "      <td>18.716750</td>\n",
       "    </tr>\n",
       "    <tr>\n",
       "      <th>50%</th>\n",
       "      <td>14.356500</td>\n",
       "      <td>21.017500</td>\n",
       "    </tr>\n",
       "    <tr>\n",
       "      <th>75%</th>\n",
       "      <td>16.200750</td>\n",
       "      <td>24.051500</td>\n",
       "    </tr>\n",
       "    <tr>\n",
       "      <th>max</th>\n",
       "      <td>22.328000</td>\n",
       "      <td>35.255000</td>\n",
       "    </tr>\n",
       "  </tbody>\n",
       "</table>\n",
       "</div>"
      ],
      "text/plain": [
       "       Congruent  Incongruent\n",
       "count  24.000000    24.000000\n",
       "mean   14.051125    22.015917\n",
       "std     3.559358     4.797057\n",
       "min     8.630000    15.687000\n",
       "25%    11.895250    18.716750\n",
       "50%    14.356500    21.017500\n",
       "75%    16.200750    24.051500\n",
       "max    22.328000    35.255000"
      ]
     },
     "execution_count": 3,
     "metadata": {},
     "output_type": "execute_result"
    }
   ],
   "source": [
    "data.describe()"
   ]
  },
  {
   "cell_type": "markdown",
   "metadata": {
    "collapsed": true
   },
   "source": [
    "##### 4 - Forneça uma ou duas visualizações que mostre a distribuição da amostra de dados. Escreva uma ou duas sentenças sobre o que você observou do gráfico ou gráficos.\n",
    "\n",
    "Maiorias das pessoas do teste congruente demorou em torno de 14 e os incongruentes em torno de 21.\n",
    "Também existe uma dispersão muito grande que vai de de 9 a 22 min para os congruentes e 15 a 35."
   ]
  },
  {
   "cell_type": "code",
   "execution_count": 4,
   "metadata": {
    "collapsed": false
   },
   "outputs": [
    {
     "data": {
      "text/plain": [
       "array([[<matplotlib.axes._subplots.AxesSubplot object at 0x107faeda0>,\n",
       "        <matplotlib.axes._subplots.AxesSubplot object at 0x108043f60>]], dtype=object)"
      ]
     },
     "execution_count": 4,
     "metadata": {},
     "output_type": "execute_result"
    },
    {
     "data": {
      "image/png": "[encoded data removed]",
      "text/plain": [
       "<matplotlib.figure.Figure at 0x107fae710>"
      ]
     },
     "metadata": {},
     "output_type": "display_data"
    }
   ],
   "source": [
    "data.hist()"
   ]
  },
  {
   "cell_type": "code",
   "execution_count": 5,
   "metadata": {
    "collapsed": false
   },
   "outputs": [
    {
     "data": {
      "text/plain": [
       "<matplotlib.axes._subplots.AxesSubplot at 0x108111908>"
      ]
     },
     "execution_count": 5,
     "metadata": {},
     "output_type": "execute_result"
    },
    {
     "data": {
      "image/png": "[encoded data removed]",
      "text/plain": [
       "<matplotlib.figure.Figure at 0x1080a6358>"
      ]
     },
     "metadata": {},
     "output_type": "display_data"
    }
   ],
   "source": [
    "data.boxplot()"
   ]
  },
  {
   "cell_type": "markdown",
   "metadata": {},
   "source": [
    "##### 5 - Agora desempenhe o teste estatístico e reporte seus resultados. Qual seu nível de confiança e o valor estatístico crítico? Você rejeitou a hipótese nula ou falhou ao tentar rejeitá-la? Encontre uma conclusão em relação ao experimento da tarefa. Os resultados estão de acordo com suas expectativas?"
   ]
  },
  {
   "cell_type": "markdown",
   "metadata": {},
   "source": [
    "Valor de nível de confiança é de 95% onde\n",
    "\n",
    "* O valor estatístico T crítico é de 5%.\n",
    "* A estatística t calculada é de 4.1030005857111781e-08\n",
    "\n",
    "\n",
    "A hipótose nula foi rejeitada, pois de acordo com o teste T pareado existe menos de 5% de probabilidade do resultado ter ocorrido por acaso.\n",
    "Visualizando o boxplot era de esperar que houvesse uma diferença entre os grupos."
   ]
  },
  {
   "cell_type": "code",
   "execution_count": 6,
   "metadata": {
    "collapsed": false
   },
   "outputs": [
    {
     "data": {
      "text/plain": [
       "4.1030005857111781e-08"
      ]
     },
     "execution_count": 6,
     "metadata": {},
     "output_type": "execute_result"
    }
   ],
   "source": [
    "p_value"
   ]
  },
  {
   "cell_type": "markdown",
   "metadata": {},
   "source": [
    "##### 6 -O que você acha que é responsável pelo efeito observado? Consegue pensar em uma alternativa ou tarefa similar que resultaria em um efeito parecido?\n",
    "\n",
    "\n",
    "O responsável pelo efeito é a forma de como as palavras fora apresentadas, no grupo incongruente existe uma confunsão do cerébro para dizer a cor e não a palavra apresentada, aumentando o tempo de leitura.\n",
    "\n",
    "Um teste que poderia levar o efeito similar seria pedir para que os participantes lessem uma palavra de trás para frente."
   ]
  },
  {
   "cell_type": "markdown",
   "metadata": {},
   "source": []
  }
 ],
 "metadata": {
  "kernelspec": {
   "display_name": "Python 2",
   "language": "python",
   "name": "python2"
  },
  "language_info": {
   "codemirror_mode": {
    "name": "ipython",
    "version": 2
   },
   "file_extension": ".py",
   "mimetype": "text/x-python",
   "name": "python",
   "nbconvert_exporter": "python",
   "pygments_lexer": "ipython2",
   "version": "2.7.12"
  }
 },
 "nbformat": 4,
 "nbformat_minor": 2
}
