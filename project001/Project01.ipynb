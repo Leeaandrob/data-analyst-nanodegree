{
 "cells": [
  {
   "cell_type": "markdown",
   "metadata": {
    "collapsed": false
   },
   "source": [
    "#### 2.\n",
    "\n",
    "##### Qual seria um conjunto apropriado de hipóteses para essa tarefa?\n",
    "\n",
    "Hipótese nula (H0):\n",
    "Não há diferença entre as velocidade de leitura com os grupos congruentes e incongruentes.\n",
    "\n",
    "Hipótese alternativa H1:\n",
    "Existe diferença entre as velocidades de leituras com os grupos congruentes e incongruentes.\n",
    "\n",
    "##### Que tipo de teste estatístico você espera executar?\n",
    "\n",
    "Teste de comparação de médias\n",
    "\n",
    "###### Justifique.\n",
    "* Eu escolhi o teste T pareado, pois os grupos são relacionados (a mesma pessoa participou de ambos os grupos).\n",
    "* Pois ele é indicado para comparar dois grupos com a amostra relacionais (a mesma pessoa aplicou nos dois testes)."
   ]
  },
  {
   "cell_type": "code",
   "execution_count": 1,
   "metadata": {
    "collapsed": true
   },
   "outputs": [],
   "source": [
    "import pandas as pd\n",
    "import scipy.stats\n",
    "\n",
    "%matplotlib inline\n",
    "\n",
    "data = pd.read_csv('stroopdata.csv')\n",
    "data.head()\n",
    "\n",
    "p_value = scipy.stats.ttest_rel(data.Congruent, data.Incongruent).pvalue"
   ]
  },
  {
   "cell_type": "markdown",
   "metadata": {
    "collapsed": true
   },
   "source": [
    "##### 3 - Reporte alguma estatística descritiva em relação a esse conjunto de dados. Inclua, pelo menos, uma medida de tendência central de pelo menos uma medida de variabilidade.\n",
    "\n",
    "Estatística descritiva:\n",
    "\n",
    "Medida de tendência central:\n",
    "congruente = 14.051125\n",
    "incongruente = 22.015917\n",
    "\n",
    "Variabilidade:\n",
    "Desvio padrão:\n",
    "Congruente = 3.559358\n",
    "Incongruente = 4.797057"
   ]
  },
  {
   "cell_type": "code",
   "execution_count": 2,
   "metadata": {
    "collapsed": false
   },
   "outputs": [
    {
     "data": {
      "text/html": [
       "<div>\n",
       "<table border=\"1\" class=\"dataframe\">\n",
       "  <thead>\n",
       "    <tr style=\"text-align: right;\">\n",
       "      <th></th>\n",
       "      <th>Congruent</th>\n",
       "      <th>Incongruent</th>\n",
       "    </tr>\n",
       "  </thead>\n",
       "  <tbody>\n",
       "    <tr>\n",
       "      <th>count</th>\n",
       "      <td>24.000000</td>\n",
       "      <td>24.000000</td>\n",
       "    </tr>\n",
       "    <tr>\n",
       "      <th>mean</th>\n",
       "      <td>14.051125</td>\n",
       "      <td>22.015917</td>\n",
       "    </tr>\n",
       "    <tr>\n",
       "      <th>std</th>\n",
       "      <td>3.559358</td>\n",
       "      <td>4.797057</td>\n",
       "    </tr>\n",
       "    <tr>\n",
       "      <th>min</th>\n",
       "      <td>8.630000</td>\n",
       "      <td>15.687000</td>\n",
       "    </tr>\n",
       "    <tr>\n",
       "      <th>25%</th>\n",
       "      <td>11.895250</td>\n",
       "      <td>18.716750</td>\n",
       "    </tr>\n",
       "    <tr>\n",
       "      <th>50%</th>\n",
       "      <td>14.356500</td>\n",
       "      <td>21.017500</td>\n",
       "    </tr>\n",
       "    <tr>\n",
       "      <th>75%</th>\n",
       "      <td>16.200750</td>\n",
       "      <td>24.051500</td>\n",
       "    </tr>\n",
       "    <tr>\n",
       "      <th>max</th>\n",
       "      <td>22.328000</td>\n",
       "      <td>35.255000</td>\n",
       "    </tr>\n",
       "  </tbody>\n",
       "</table>\n",
       "</div>"
      ],
      "text/plain": [
       "       Congruent  Incongruent\n",
       "count  24.000000    24.000000\n",
       "mean   14.051125    22.015917\n",
       "std     3.559358     4.797057\n",
       "min     8.630000    15.687000\n",
       "25%    11.895250    18.716750\n",
       "50%    14.356500    21.017500\n",
       "75%    16.200750    24.051500\n",
       "max    22.328000    35.255000"
      ]
     },
     "execution_count": 2,
     "metadata": {},
     "output_type": "execute_result"
    }
   ],
   "source": [
    "data.describe()"
   ]
  },
  {
   "cell_type": "code",
   "execution_count": null,
   "metadata": {
    "collapsed": true
   },
   "outputs": [],
   "source": [
    "##### 4 - Forneça uma ou duas visualizações que mostre a distribuição da amostra de dados. Escreva uma ou duas sentenças sobre o que você observou do gráfico ou gráficos.\n",
    "\n",
    "Maiorias das pessoas demorou demorou entre 14 e 15 minutos.\n",
    "Também existe uma dispersão muito grande que vai de de 9 a 22 min."
   ]
  }
 ],
 "metadata": {
  "kernelspec": {
   "display_name": "Python 3",
   "language": "python",
   "name": "python3"
  },
  "language_info": {
   "codemirror_mode": {
    "name": "ipython",
    "version": 3
   },
   "file_extension": ".py",
   "mimetype": "text/x-python",
   "name": "python",
   "nbconvert_exporter": "python",
   "pygments_lexer": "ipython3",
   "version": "3.5.2"
  }
 },
 "nbformat": 4,
 "nbformat_minor": 2
}
